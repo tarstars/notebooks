{
 "cells": [
  {
   "cell_type": "code",
   "execution_count": 20,
   "metadata": {},
   "outputs": [],
   "source": [
    "from concurrent.futures import ThreadPoolExecutor\n",
    "from IPython.display import display, clear_output\n",
    "import math\n",
    "from math import sin, cos\n",
    "from matplotlib import pyplot as plt\n",
    "import numpy as np\n",
    "import time\n",
    "from PIL import Image\n",
    "import vapory"
   ]
  },
  {
   "cell_type": "code",
   "execution_count": 2,
   "metadata": {},
   "outputs": [],
   "source": [
    "def create_scene(grad_deg, X):\n",
    "    angle = 2 * math.pi * grad_deg / 360\n",
    "    r_camera = 10\n",
    "    camera = vapory.Camera('location', [r_camera * math.cos(angle), 1.5, r_camera * math.sin(angle)], \n",
    "                           'look_at', [0.0, 0.0, 0.0], \n",
    "                           'angle', 30)\n",
    "    light1 = vapory.LightSource([2, 4, -3], 'color', [1, 1, 1], 'shadowless')\n",
    "    light2 = vapory.LightSource([2, 4, 3], 'color', [1, 1, 1], 'shadowless')\n",
    "    plane = vapory.Plane([0, 1, 0], -2, vapory.Pigment('color', [1, 1, 1]))\n",
    "    box = vapory.Box([-1, -1, -1], [1, 1, 1], \n",
    "                     vapory.Pigment('Col_Glass_Clear'),\n",
    "                     vapory.Finish('F_Glass9'),\n",
    "                     vapory.Interior('I_Glass1'))\n",
    "    spheres = [vapory.Sphere( [r[0], r[2], r[1]], 0.05, vapory.Texture(vapory.Pigment('color', [0.7, 0.7, 0]))) for r in X]\n",
    "    return vapory.Scene(camera, objects=[light1, light2, plane] + spheres, included=['glass.inc'])"
   ]
  },
  {
   "cell_type": "code",
   "execution_count": 9,
   "metadata": {},
   "outputs": [],
   "source": [
    "class MovieMaker:\n",
    "    def __init__(self, n, width, height, x):\n",
    "        self.n = n\n",
    "        self.x = x\n",
    "        self.rotate_angle = 360 / n\n",
    "        self.ds = np.zeros((n, height, width, 3), dtype=np.uint8)    \n",
    "        self.width, self.height = width, height\n",
    "\n",
    "    def __call__(self, ind):        \n",
    "        scene = create_scene(self.rotate_angle * ind, X=self.x)\n",
    "        pic = scene.render(width=self.width, height=self.height)\n",
    "        self.ds[ind] = pic        \n",
    "        \n",
    "    def shoot(self):\n",
    "        with ThreadPoolExecutor(10) as p:\n",
    "            p.map(self, range(self.n))"
   ]
  },
  {
   "cell_type": "code",
   "execution_count": 10,
   "metadata": {},
   "outputs": [],
   "source": [
    "def get_vertice(upper, ind):\n",
    "    dphi = 2 * math.pi / 5\n",
    "    s = 1 if upper else -1\n",
    "    dphi2 = 0 if upper else dphi / 2\n",
    "    theta = math.asin((1 + cos(dphi)) / math.sqrt(2)) + 3 * math.pi / 4\n",
    "    return np.array([[cos(theta)*cos(dphi*ind + dphi2), cos(theta)*sin(dphi*ind + dphi2), s * sin(theta)]])"
   ]
  },
  {
   "cell_type": "code",
   "execution_count": 11,
   "metadata": {},
   "outputs": [],
   "source": [
    "def ico_vertices():\n",
    "    l0 = np.array([0, 0, 1])\n",
    "    l1 = np.vstack([get_vertice(True, ind) for ind in range(5)])\n",
    "    l2 = np.vstack([get_vertice(False, ind) for ind in range(5)])\n",
    "    l3 = np.array([0, 0, -1])\n",
    "    return np.vstack([l0, l1, l2, l3])"
   ]
  },
  {
   "cell_type": "code",
   "execution_count": 18,
   "metadata": {},
   "outputs": [],
   "source": [
    "mm = MovieMaker(100, width=600, height=400, x=ico_vertices())\n",
    "mm.shoot()"
   ]
  },
  {
   "cell_type": "code",
   "execution_count": 23,
   "metadata": {},
   "outputs": [
    {
     "data": {
      "image/png": "[encoded data removed]",
      "text/plain": [
       "<PIL.Image.Image image mode=RGB size=600x400 at 0x7EFE897FE6D8>"
      ]
     },
     "metadata": {},
     "output_type": "display_data"
    }
   ],
   "source": [
    "for picture in mm.ds:\n",
    "    clear_output()\n",
    "    display(Image.fromarray(picture))\n",
    "    time.sleep(0.1)    "
   ]
  },
  {
   "cell_type": "code",
   "execution_count": null,
   "metadata": {},
   "outputs": [],
   "source": []
  },
  {
   "cell_type": "code",
   "execution_count": null,
   "metadata": {},
   "outputs": [],
   "source": []
  },
  {
   "cell_type": "code",
   "execution_count": null,
   "metadata": {},
   "outputs": [],
   "source": []
  },
  {
   "cell_type": "code",
   "execution_count": null,
   "metadata": {},
   "outputs": [],
   "source": []
  },
  {
   "cell_type": "code",
   "execution_count": null,
   "metadata": {},
   "outputs": [],
   "source": []
  },
  {
   "cell_type": "code",
   "execution_count": null,
   "metadata": {},
   "outputs": [],
   "source": []
  },
  {
   "cell_type": "code",
   "execution_count": null,
   "metadata": {},
   "outputs": [],
   "source": []
  },
  {
   "cell_type": "code",
   "execution_count": null,
   "metadata": {},
   "outputs": [],
   "source": []
  },
  {
   "cell_type": "code",
   "execution_count": null,
   "metadata": {},
   "outputs": [],
   "source": []
  },
  {
   "cell_type": "code",
   "execution_count": null,
   "metadata": {},
   "outputs": [],
   "source": []
  },
  {
   "cell_type": "code",
   "execution_count": null,
   "metadata": {},
   "outputs": [],
   "source": []
  },
  {
   "cell_type": "code",
   "execution_count": null,
   "metadata": {},
   "outputs": [],
   "source": []
  },
  {
   "cell_type": "code",
   "execution_count": null,
   "metadata": {},
   "outputs": [],
   "source": []
  },
  {
   "cell_type": "code",
   "execution_count": null,
   "metadata": {},
   "outputs": [],
   "source": []
  },
  {
   "cell_type": "code",
   "execution_count": null,
   "metadata": {},
   "outputs": [],
   "source": []
  },
  {
   "cell_type": "code",
   "execution_count": null,
   "metadata": {},
   "outputs": [],
   "source": []
  },
  {
   "cell_type": "code",
   "execution_count": null,
   "metadata": {},
   "outputs": [],
   "source": []
  },
  {
   "cell_type": "code",
   "execution_count": null,
   "metadata": {},
   "outputs": [],
   "source": []
  },
  {
   "cell_type": "code",
   "execution_count": null,
   "metadata": {},
   "outputs": [],
   "source": []
  },
  {
   "cell_type": "code",
   "execution_count": null,
   "metadata": {},
   "outputs": [],
   "source": []
  },
  {
   "cell_type": "code",
   "execution_count": null,
   "metadata": {},
   "outputs": [],
   "source": []
  },
  {
   "cell_type": "code",
   "execution_count": null,
   "metadata": {},
   "outputs": [],
   "source": []
  },
  {
   "cell_type": "code",
   "execution_count": null,
   "metadata": {},
   "outputs": [],
   "source": []
  },
  {
   "cell_type": "code",
   "execution_count": null,
   "metadata": {},
   "outputs": [],
   "source": []
  },
  {
   "cell_type": "code",
   "execution_count": null,
   "metadata": {},
   "outputs": [],
   "source": []
  }
 ],
 "metadata": {
  "kernelspec": {
   "display_name": "Python 3",
   "language": "python",
   "name": "python3"
  },
  "language_info": {
   "codemirror_mode": {
    "name": "ipython",
    "version": 3
   },
   "file_extension": ".py",
   "mimetype": "text/x-python",
   "name": "python",
   "nbconvert_exporter": "python",
   "pygments_lexer": "ipython3",
   "version": "3.6.6"
  }
 },
 "nbformat": 4,
 "nbformat_minor": 2
}
